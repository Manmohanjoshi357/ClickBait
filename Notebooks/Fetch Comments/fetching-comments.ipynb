{
 "cells": [
  {
   "cell_type": "code",
   "execution_count": 1,
   "metadata": {
    "_cell_guid": "b1076dfc-b9ad-4769-8c92-a6c4dae69d19",
    "_uuid": "8f2839f25d086af736a60e9eeb907d3b93b6e0e5",
    "execution": {
     "iopub.execute_input": "2025-03-13T01:09:06.227585Z",
     "iopub.status.busy": "2025-03-13T01:09:06.227267Z",
     "iopub.status.idle": "2025-03-13T01:09:07.770664Z",
     "shell.execute_reply": "2025-03-13T01:09:07.769431Z",
     "shell.execute_reply.started": "2025-03-13T01:09:06.227542Z"
    },
    "trusted": true
   },
   "outputs": [],
   "source": [
    "import time\n",
    "import pandas as pd\n",
    "from googleapiclient.discovery import build\n",
    "from kaggle_secrets import UserSecretsClient"
   ]
  },
  {
   "cell_type": "code",
   "execution_count": 2,
   "metadata": {
    "execution": {
     "iopub.execute_input": "2025-03-13T01:09:07.772229Z",
     "iopub.status.busy": "2025-03-13T01:09:07.771640Z",
     "iopub.status.idle": "2025-03-13T01:09:07.794397Z",
     "shell.execute_reply": "2025-03-13T01:09:07.793225Z",
     "shell.execute_reply.started": "2025-03-13T01:09:07.772196Z"
    },
    "trusted": true
   },
   "outputs": [
    {
     "data": {
      "text/plain": [
       "(400, 3)"
      ]
     },
     "execution_count": 2,
     "metadata": {},
     "output_type": "execute_result"
    }
   ],
   "source": [
    "comments_count = pd.read_csv(\"/kaggle/input/comments-count-part1/part1.csv\")\n",
    "comments_count.shape"
   ]
  },
  {
   "cell_type": "code",
   "execution_count": 3,
   "metadata": {
    "execution": {
     "iopub.execute_input": "2025-03-13T01:09:07.795875Z",
     "iopub.status.busy": "2025-03-13T01:09:07.795565Z",
     "iopub.status.idle": "2025-03-13T01:09:07.826468Z",
     "shell.execute_reply": "2025-03-13T01:09:07.825089Z",
     "shell.execute_reply.started": "2025-03-13T01:09:07.795847Z"
    },
    "trusted": true
   },
   "outputs": [
    {
     "name": "stdout",
     "output_type": "stream",
     "text": [
      "<class 'pandas.core.frame.DataFrame'>\n",
      "RangeIndex: 400 entries, 0 to 399\n",
      "Data columns (total 3 columns):\n",
      " #   Column         Non-Null Count  Dtype  \n",
      "---  ------         --------------  -----  \n",
      " 0   Video ID       400 non-null    object \n",
      " 1   Comments       0 non-null      float64\n",
      " 2   Comment Count  400 non-null    int64  \n",
      "dtypes: float64(1), int64(1), object(1)\n",
      "memory usage: 9.5+ KB\n"
     ]
    }
   ],
   "source": [
    "comments_count.info()"
   ]
  },
  {
   "cell_type": "code",
   "execution_count": 4,
   "metadata": {
    "execution": {
     "iopub.execute_input": "2025-03-13T01:09:07.828318Z",
     "iopub.status.busy": "2025-03-13T01:09:07.827823Z",
     "iopub.status.idle": "2025-03-13T01:09:07.873329Z",
     "shell.execute_reply": "2025-03-13T01:09:07.872348Z",
     "shell.execute_reply.started": "2025-03-13T01:09:07.828275Z"
    },
    "trusted": true
   },
   "outputs": [
    {
     "name": "stderr",
     "output_type": "stream",
     "text": [
      "/usr/local/lib/python3.10/dist-packages/pandas/io/formats/format.py:1458: RuntimeWarning: invalid value encountered in greater\n",
      "  has_large_values = (abs_vals > 1e6).any()\n",
      "/usr/local/lib/python3.10/dist-packages/pandas/io/formats/format.py:1459: RuntimeWarning: invalid value encountered in less\n",
      "  has_small_values = ((abs_vals < 10 ** (-self.digits)) & (abs_vals > 0)).any()\n",
      "/usr/local/lib/python3.10/dist-packages/pandas/io/formats/format.py:1459: RuntimeWarning: invalid value encountered in greater\n",
      "  has_small_values = ((abs_vals < 10 ** (-self.digits)) & (abs_vals > 0)).any()\n"
     ]
    },
    {
     "data": {
      "text/html": [
       "<div>\n",
       "<style scoped>\n",
       "    .dataframe tbody tr th:only-of-type {\n",
       "        vertical-align: middle;\n",
       "    }\n",
       "\n",
       "    .dataframe tbody tr th {\n",
       "        vertical-align: top;\n",
       "    }\n",
       "\n",
       "    .dataframe thead th {\n",
       "        text-align: right;\n",
       "    }\n",
       "</style>\n",
       "<table border=\"1\" class=\"dataframe\">\n",
       "  <thead>\n",
       "    <tr style=\"text-align: right;\">\n",
       "      <th></th>\n",
       "      <th>Comments</th>\n",
       "      <th>Comment Count</th>\n",
       "    </tr>\n",
       "  </thead>\n",
       "  <tbody>\n",
       "    <tr>\n",
       "      <th>count</th>\n",
       "      <td>0.0</td>\n",
       "      <td>400.00000</td>\n",
       "    </tr>\n",
       "    <tr>\n",
       "      <th>mean</th>\n",
       "      <td>NaN</td>\n",
       "      <td>88.18000</td>\n",
       "    </tr>\n",
       "    <tr>\n",
       "      <th>std</th>\n",
       "      <td>NaN</td>\n",
       "      <td>95.71636</td>\n",
       "    </tr>\n",
       "    <tr>\n",
       "      <th>min</th>\n",
       "      <td>NaN</td>\n",
       "      <td>1.00000</td>\n",
       "    </tr>\n",
       "    <tr>\n",
       "      <th>25%</th>\n",
       "      <td>NaN</td>\n",
       "      <td>11.00000</td>\n",
       "    </tr>\n",
       "    <tr>\n",
       "      <th>50%</th>\n",
       "      <td>NaN</td>\n",
       "      <td>46.00000</td>\n",
       "    </tr>\n",
       "    <tr>\n",
       "      <th>75%</th>\n",
       "      <td>NaN</td>\n",
       "      <td>137.25000</td>\n",
       "    </tr>\n",
       "    <tr>\n",
       "      <th>max</th>\n",
       "      <td>NaN</td>\n",
       "      <td>367.00000</td>\n",
       "    </tr>\n",
       "  </tbody>\n",
       "</table>\n",
       "</div>"
      ],
      "text/plain": [
       "       Comments  Comment Count\n",
       "count       0.0      400.00000\n",
       "mean        NaN       88.18000\n",
       "std         NaN       95.71636\n",
       "min         NaN        1.00000\n",
       "25%         NaN       11.00000\n",
       "50%         NaN       46.00000\n",
       "75%         NaN      137.25000\n",
       "max         NaN      367.00000"
      ]
     },
     "execution_count": 4,
     "metadata": {},
     "output_type": "execute_result"
    }
   ],
   "source": [
    "comments_count.describe()"
   ]
  },
  {
   "cell_type": "code",
   "execution_count": 5,
   "metadata": {
    "execution": {
     "iopub.execute_input": "2025-03-13T01:09:07.874696Z",
     "iopub.status.busy": "2025-03-13T01:09:07.874353Z",
     "iopub.status.idle": "2025-03-13T01:09:07.885803Z",
     "shell.execute_reply": "2025-03-13T01:09:07.884769Z",
     "shell.execute_reply.started": "2025-03-13T01:09:07.874668Z"
    },
    "trusted": true
   },
   "outputs": [
    {
     "name": "stderr",
     "output_type": "stream",
     "text": [
      "/usr/local/lib/python3.10/dist-packages/pandas/io/formats/format.py:1458: RuntimeWarning: invalid value encountered in greater\n",
      "  has_large_values = (abs_vals > 1e6).any()\n",
      "/usr/local/lib/python3.10/dist-packages/pandas/io/formats/format.py:1459: RuntimeWarning: invalid value encountered in less\n",
      "  has_small_values = ((abs_vals < 10 ** (-self.digits)) & (abs_vals > 0)).any()\n",
      "/usr/local/lib/python3.10/dist-packages/pandas/io/formats/format.py:1459: RuntimeWarning: invalid value encountered in greater\n",
      "  has_small_values = ((abs_vals < 10 ** (-self.digits)) & (abs_vals > 0)).any()\n"
     ]
    },
    {
     "data": {
      "text/html": [
       "<div>\n",
       "<style scoped>\n",
       "    .dataframe tbody tr th:only-of-type {\n",
       "        vertical-align: middle;\n",
       "    }\n",
       "\n",
       "    .dataframe tbody tr th {\n",
       "        vertical-align: top;\n",
       "    }\n",
       "\n",
       "    .dataframe thead th {\n",
       "        text-align: right;\n",
       "    }\n",
       "</style>\n",
       "<table border=\"1\" class=\"dataframe\">\n",
       "  <thead>\n",
       "    <tr style=\"text-align: right;\">\n",
       "      <th></th>\n",
       "      <th>Video ID</th>\n",
       "      <th>Comments</th>\n",
       "      <th>Comment Count</th>\n",
       "    </tr>\n",
       "  </thead>\n",
       "  <tbody>\n",
       "    <tr>\n",
       "      <th>0</th>\n",
       "      <td>gqht0qzWWko</td>\n",
       "      <td>NaN</td>\n",
       "      <td>1</td>\n",
       "    </tr>\n",
       "    <tr>\n",
       "      <th>1</th>\n",
       "      <td>cX3VILC_4Qg</td>\n",
       "      <td>NaN</td>\n",
       "      <td>1</td>\n",
       "    </tr>\n",
       "    <tr>\n",
       "      <th>2</th>\n",
       "      <td>LzdjTEFuc8o</td>\n",
       "      <td>NaN</td>\n",
       "      <td>1</td>\n",
       "    </tr>\n",
       "    <tr>\n",
       "      <th>3</th>\n",
       "      <td>BH3t8GSR9OE</td>\n",
       "      <td>NaN</td>\n",
       "      <td>1</td>\n",
       "    </tr>\n",
       "    <tr>\n",
       "      <th>4</th>\n",
       "      <td>ZlgxWwgTNNU</td>\n",
       "      <td>NaN</td>\n",
       "      <td>1</td>\n",
       "    </tr>\n",
       "  </tbody>\n",
       "</table>\n",
       "</div>"
      ],
      "text/plain": [
       "      Video ID  Comments  Comment Count\n",
       "0  gqht0qzWWko       NaN              1\n",
       "1  cX3VILC_4Qg       NaN              1\n",
       "2  LzdjTEFuc8o       NaN              1\n",
       "3  BH3t8GSR9OE       NaN              1\n",
       "4  ZlgxWwgTNNU       NaN              1"
      ]
     },
     "execution_count": 5,
     "metadata": {},
     "output_type": "execute_result"
    }
   ],
   "source": [
    "comments_count.head()"
   ]
  },
  {
   "cell_type": "markdown",
   "metadata": {},
   "source": [
    "## Total Comments to Fetch in all Video"
   ]
  },
  {
   "cell_type": "code",
   "execution_count": 6,
   "metadata": {
    "execution": {
     "iopub.execute_input": "2025-03-13T01:09:07.889306Z",
     "iopub.status.busy": "2025-03-13T01:09:07.888755Z",
     "iopub.status.idle": "2025-03-13T01:09:07.901804Z",
     "shell.execute_reply": "2025-03-13T01:09:07.900650Z",
     "shell.execute_reply.started": "2025-03-13T01:09:07.889263Z"
    },
    "trusted": true
   },
   "outputs": [
    {
     "data": {
      "text/plain": [
       "35272"
      ]
     },
     "execution_count": 6,
     "metadata": {},
     "output_type": "execute_result"
    }
   ],
   "source": [
    "comments_count[\"Comment Count\"].sum()"
   ]
  },
  {
   "cell_type": "markdown",
   "metadata": {},
   "source": [
    "## Comments which has Comment Counts less than 100\n",
    "* Fetching this in one request api hit"
   ]
  },
  {
   "cell_type": "code",
   "execution_count": 7,
   "metadata": {
    "execution": {
     "iopub.execute_input": "2025-03-13T01:09:07.904083Z",
     "iopub.status.busy": "2025-03-13T01:09:07.903654Z",
     "iopub.status.idle": "2025-03-13T01:09:07.923597Z",
     "shell.execute_reply": "2025-03-13T01:09:07.922486Z",
     "shell.execute_reply.started": "2025-03-13T01:09:07.904044Z"
    },
    "trusted": true
   },
   "outputs": [
    {
     "data": {
      "text/plain": [
       "Video ID         263\n",
       "Comments           0\n",
       "Comment Count    263\n",
       "dtype: int64"
      ]
     },
     "execution_count": 7,
     "metadata": {},
     "output_type": "execute_result"
    }
   ],
   "source": [
    "comments_count[comments_count[\"Comment Count\"]<=100].count()"
   ]
  },
  {
   "cell_type": "code",
   "execution_count": 8,
   "metadata": {
    "execution": {
     "iopub.execute_input": "2025-03-13T01:09:07.925154Z",
     "iopub.status.busy": "2025-03-13T01:09:07.924691Z",
     "iopub.status.idle": "2025-03-13T01:09:07.943734Z",
     "shell.execute_reply": "2025-03-13T01:09:07.942652Z",
     "shell.execute_reply.started": "2025-03-13T01:09:07.925112Z"
    },
    "trusted": true
   },
   "outputs": [
    {
     "data": {
      "text/plain": [
       "Video ID         gqht0qzWWkocX3VILC_4QgLzdjTEFuc8oBH3t8GSR9OEZl...\n",
       "Comments                                                       0.0\n",
       "Comment Count                                                 7589\n",
       "dtype: object"
      ]
     },
     "execution_count": 8,
     "metadata": {},
     "output_type": "execute_result"
    }
   ],
   "source": [
    "comments_count[comments_count[\"Comment Count\"]<=100].sum()"
   ]
  },
  {
   "cell_type": "markdown",
   "metadata": {},
   "source": [
    "## Set the Api Key"
   ]
  },
  {
   "cell_type": "code",
   "execution_count": 9,
   "metadata": {
    "execution": {
     "iopub.execute_input": "2025-03-13T01:09:07.945340Z",
     "iopub.status.busy": "2025-03-13T01:09:07.944910Z",
     "iopub.status.idle": "2025-03-13T01:09:08.471603Z",
     "shell.execute_reply": "2025-03-13T01:09:08.470552Z",
     "shell.execute_reply.started": "2025-03-13T01:09:07.945299Z"
    },
    "trusted": true
   },
   "outputs": [],
   "source": [
    "user_secrets = UserSecretsClient()\n",
    "API_KEY = user_secrets.get_secret(\"youtube_api_key\")"
   ]
  },
  {
   "cell_type": "markdown",
   "metadata": {},
   "source": [
    "## Initialize the YouTube API client"
   ]
  },
  {
   "cell_type": "code",
   "execution_count": 10,
   "metadata": {
    "execution": {
     "iopub.execute_input": "2025-03-13T01:09:08.473298Z",
     "iopub.status.busy": "2025-03-13T01:09:08.472833Z",
     "iopub.status.idle": "2025-03-13T01:09:08.497201Z",
     "shell.execute_reply": "2025-03-13T01:09:08.496126Z",
     "shell.execute_reply.started": "2025-03-13T01:09:08.473257Z"
    },
    "trusted": true
   },
   "outputs": [],
   "source": [
    "youtube = build('youtube', 'v3', developerKey=API_KEY)"
   ]
  },
  {
   "cell_type": "code",
   "execution_count": 11,
   "metadata": {
    "execution": {
     "iopub.execute_input": "2025-03-13T01:09:08.498526Z",
     "iopub.status.busy": "2025-03-13T01:09:08.498200Z",
     "iopub.status.idle": "2025-03-13T01:09:08.509466Z",
     "shell.execute_reply": "2025-03-13T01:09:08.508544Z",
     "shell.execute_reply.started": "2025-03-13T01:09:08.498490Z"
    },
    "trusted": true
   },
   "outputs": [
    {
     "data": {
      "text/html": [
       "<div>\n",
       "<style scoped>\n",
       "    .dataframe tbody tr th:only-of-type {\n",
       "        vertical-align: middle;\n",
       "    }\n",
       "\n",
       "    .dataframe tbody tr th {\n",
       "        vertical-align: top;\n",
       "    }\n",
       "\n",
       "    .dataframe thead th {\n",
       "        text-align: right;\n",
       "    }\n",
       "</style>\n",
       "<table border=\"1\" class=\"dataframe\">\n",
       "  <thead>\n",
       "    <tr style=\"text-align: right;\">\n",
       "      <th></th>\n",
       "      <th>Video ID</th>\n",
       "      <th>Comments</th>\n",
       "      <th>Comment Count</th>\n",
       "    </tr>\n",
       "  </thead>\n",
       "  <tbody>\n",
       "    <tr>\n",
       "      <th>0</th>\n",
       "      <td>gqht0qzWWko</td>\n",
       "      <td>nan</td>\n",
       "      <td>1</td>\n",
       "    </tr>\n",
       "    <tr>\n",
       "      <th>1</th>\n",
       "      <td>cX3VILC_4Qg</td>\n",
       "      <td>nan</td>\n",
       "      <td>1</td>\n",
       "    </tr>\n",
       "    <tr>\n",
       "      <th>2</th>\n",
       "      <td>LzdjTEFuc8o</td>\n",
       "      <td>nan</td>\n",
       "      <td>1</td>\n",
       "    </tr>\n",
       "    <tr>\n",
       "      <th>3</th>\n",
       "      <td>BH3t8GSR9OE</td>\n",
       "      <td>nan</td>\n",
       "      <td>1</td>\n",
       "    </tr>\n",
       "    <tr>\n",
       "      <th>4</th>\n",
       "      <td>ZlgxWwgTNNU</td>\n",
       "      <td>nan</td>\n",
       "      <td>1</td>\n",
       "    </tr>\n",
       "  </tbody>\n",
       "</table>\n",
       "</div>"
      ],
      "text/plain": [
       "      Video ID Comments  Comment Count\n",
       "0  gqht0qzWWko      nan              1\n",
       "1  cX3VILC_4Qg      nan              1\n",
       "2  LzdjTEFuc8o      nan              1\n",
       "3  BH3t8GSR9OE      nan              1\n",
       "4  ZlgxWwgTNNU      nan              1"
      ]
     },
     "execution_count": 11,
     "metadata": {},
     "output_type": "execute_result"
    }
   ],
   "source": [
    "comments_count['Comments'] = comments_count['Comments'].astype(str)\n",
    "comments_count.head()"
   ]
  },
  {
   "cell_type": "markdown",
   "metadata": {},
   "source": [
    "## Adjust Batch Size and Sleep Time Accordingly"
   ]
  },
  {
   "cell_type": "code",
   "execution_count": null,
   "metadata": {
    "execution": {
     "iopub.execute_input": "2025-03-13T01:09:08.510910Z",
     "iopub.status.busy": "2025-03-13T01:09:08.510533Z",
     "iopub.status.idle": "2025-03-13T01:09:08.527262Z",
     "shell.execute_reply": "2025-03-13T01:09:08.525960Z",
     "shell.execute_reply.started": "2025-03-13T01:09:08.510871Z"
    },
    "trusted": true
   },
   "outputs": [],
   "source": [
    "# Function to fetch comments for a video\n",
    "def fetch_comments(video_id, max_results=100):\n",
    "    comments = []\n",
    "    try:\n",
    "        request = youtube.commentThreads().list(\n",
    "            part='snippet',\n",
    "            videoId=video_id,\n",
    "            textFormat='plainText',\n",
    "            maxResults=max_results\n",
    "        )\n",
    "        response = request.execute()\n",
    "        \n",
    "        # Extract comments from the first page\n",
    "        for item in response['items']:\n",
    "            comments.append(item['snippet']['topLevelComment']['snippet']['textDisplay'])\n",
    "\n",
    "        # Handle pagination (fetch all remaining comments)\n",
    "        while 'nextPageToken' in response:\n",
    "            request = youtube.commentThreads().list(\n",
    "                part='snippet',\n",
    "                videoId=video_id,\n",
    "                textFormat='plainText',\n",
    "                maxResults=max_results,\n",
    "                pageToken=response['nextPageToken']\n",
    "            )\n",
    "            response = request.execute()\n",
    "            for item in response['items']:\n",
    "                comments.append(item['snippet']['topLevelComment']['snippet']['textDisplay'])\n",
    "    except Exception as e:\n",
    "        print(f\"Error fetching comments for video {video_id}: {e}\")\n",
    "    return comments\n",
    "\n",
    "# Function to process videos in batches\n",
    "def process_videos(df, batch_size=2):\n",
    "    for i in range(0, len(df), batch_size):\n",
    "        batch = df.iloc[i:i + batch_size]\n",
    "        for index, row in batch.iterrows():\n",
    "            video_id = row['Video ID']\n",
    "            comment_count = row['Comment Count']\n",
    "            if row['Comments'] == 'nan' or row['Comments'] == 'None':  # Updated condition\n",
    "                print(f\"Fetching comments for video: {video_id} (Comment Count: {comment_count})\")\n",
    "                if comment_count <= 100:\n",
    "                    # Fetch all comments in one request\n",
    "                    comments = fetch_comments(video_id, max_results=100)\n",
    "                else:\n",
    "                    # Fetch comments in batches of 100\n",
    "                    comments = fetch_comments(video_id, max_results=100)\n",
    "                df.at[index, 'Comments'] = ', '.join(comments)  # Store comments as a single string\n",
    "                time.sleep(1)  # Add a delay to avoid rate limits\n",
    "            else:\n",
    "                print(f\"Skipping video {video_id} (comments already fetched)\")\n",
    "        \n",
    "        # Save progress after each batch\n",
    "        df.to_csv('comments_count_updated.csv', index=False)\n",
    "        print(f\"Processed batch {i // batch_size + 1}\")"
   ]
  },
  {
   "cell_type": "markdown",
   "metadata": {},
   "source": [
    "## Try for first 5 Rows"
   ]
  },
  {
   "cell_type": "code",
   "execution_count": 13,
   "metadata": {
    "execution": {
     "iopub.execute_input": "2025-03-13T01:09:08.528860Z",
     "iopub.status.busy": "2025-03-13T01:09:08.528475Z",
     "iopub.status.idle": "2025-03-13T01:09:10.584820Z",
     "shell.execute_reply": "2025-03-13T01:09:10.583886Z",
     "shell.execute_reply.started": "2025-03-13T01:09:08.528826Z"
    },
    "trusted": true
   },
   "outputs": [
    {
     "name": "stdout",
     "output_type": "stream",
     "text": [
      "Fetching comments for video: gqht0qzWWko (Comment Count: 1)\n",
      "Fetching comments for video: cX3VILC_4Qg (Comment Count: 1)\n",
      "Fetching comments for video: LzdjTEFuc8o (Comment Count: 1)\n",
      "Fetching comments for video: BH3t8GSR9OE (Comment Count: 1)\n",
      "Fetching comments for video: ZlgxWwgTNNU (Comment Count: 1)\n",
      "Processed batch 1\n"
     ]
    }
   ],
   "source": [
    "process_videos(comments_count[:5])\n"
   ]
  },
  {
   "cell_type": "code",
   "execution_count": 14,
   "metadata": {
    "execution": {
     "iopub.execute_input": "2025-03-13T01:09:10.586236Z",
     "iopub.status.busy": "2025-03-13T01:09:10.585800Z",
     "iopub.status.idle": "2025-03-13T01:12:31.656877Z",
     "shell.execute_reply": "2025-03-13T01:12:31.655624Z",
     "shell.execute_reply.started": "2025-03-13T01:09:10.586199Z"
    },
    "trusted": true
   },
   "outputs": [
    {
     "name": "stdout",
     "output_type": "stream",
     "text": [
      "Skipping video gqht0qzWWko (comments already fetched)\n",
      "Skipping video cX3VILC_4Qg (comments already fetched)\n",
      "Skipping video LzdjTEFuc8o (comments already fetched)\n",
      "Skipping video BH3t8GSR9OE (comments already fetched)\n",
      "Skipping video ZlgxWwgTNNU (comments already fetched)\n",
      "Fetching comments for video: aXjeCpxdO_8 (Comment Count: 1)\n",
      "Fetching comments for video: CqZeutIEjcs (Comment Count: 1)\n",
      "Fetching comments for video: 85uPKxL6RhA (Comment Count: 1)\n",
      "Fetching comments for video: DV4_4t5pwcA (Comment Count: 1)\n",
      "Fetching comments for video: Vr2Fh4srIvQ (Comment Count: 1)\n",
      "Fetching comments for video: AB220rGjvjw (Comment Count: 1)\n",
      "Fetching comments for video: iDobc1umpUc (Comment Count: 1)\n",
      "Fetching comments for video: PKDquwfSoJw (Comment Count: 1)\n",
      "Fetching comments for video: CVldSgFnZyY (Comment Count: 1)\n",
      "Fetching comments for video: bNB1CdKzzzk (Comment Count: 1)\n",
      "Fetching comments for video: pEuVNxFeqpA (Comment Count: 2)\n",
      "Fetching comments for video: Gh0sUcXuuJg (Comment Count: 2)\n",
      "Fetching comments for video: NeI41nWlhps (Comment Count: 2)\n",
      "Fetching comments for video: _8CjUYejFw0 (Comment Count: 2)\n",
      "Fetching comments for video: XzZv_3HxohA (Comment Count: 2)\n",
      "Fetching comments for video: Y5qs6u2nPOY (Comment Count: 3)\n",
      "Fetching comments for video: MpDsti-uUq0 (Comment Count: 3)\n",
      "Fetching comments for video: XoOWds2b-Xc (Comment Count: 3)\n",
      "Fetching comments for video: NW_lNs5imhk (Comment Count: 3)\n",
      "Fetching comments for video: KA6kkwe2zUI (Comment Count: 3)\n",
      "Fetching comments for video: zs3wAHu5bjM (Comment Count: 3)\n",
      "Fetching comments for video: J6tLuhZf3Rg (Comment Count: 3)\n",
      "Fetching comments for video: WSTSeMQdcZc (Comment Count: 3)\n",
      "Fetching comments for video: 5eVNXEHGv2o (Comment Count: 3)\n",
      "Fetching comments for video: YPexGKycUXM (Comment Count: 3)\n",
      "Fetching comments for video: nICtzoizWQo (Comment Count: 3)\n",
      "Fetching comments for video: qmgT_STfU_c (Comment Count: 4)\n",
      "Fetching comments for video: V55lQl1Fjlo (Comment Count: 4)\n",
      "Fetching comments for video: 2cIvKTQ9FJM (Comment Count: 4)\n",
      "Fetching comments for video: C4XiDh3WPDU (Comment Count: 4)\n",
      "Fetching comments for video: oElP9uf2he4 (Comment Count: 4)\n",
      "Fetching comments for video: VwRXiwSkKoE (Comment Count: 4)\n",
      "Fetching comments for video: UPFxplPTpUU (Comment Count: 4)\n",
      "Fetching comments for video: O7C88qCz1TU (Comment Count: 5)\n",
      "Fetching comments for video: YH8g__5rJk8 (Comment Count: 5)\n",
      "Fetching comments for video: LR1fvqgybpU (Comment Count: 5)\n",
      "Fetching comments for video: 4fdf44O2eUc (Comment Count: 5)\n",
      "Fetching comments for video: rTY0QLd5sR8 (Comment Count: 5)\n",
      "Fetching comments for video: 5wlFEOQSUfQ (Comment Count: 5)\n",
      "Fetching comments for video: WgRtTU3Aeb0 (Comment Count: 5)\n",
      "Fetching comments for video: U8z-YXVxoMQ (Comment Count: 5)\n",
      "Fetching comments for video: lBv_ZWY27rc (Comment Count: 5)\n",
      "Fetching comments for video: i2I789-8Chk (Comment Count: 6)\n",
      "Fetching comments for video: OvW1xP1EIsU (Comment Count: 6)\n",
      "Fetching comments for video: PvCkV2wdxLo (Comment Count: 6)\n",
      "Processed batch 1\n",
      "Fetching comments for video: JYOaPvZ5ur0 (Comment Count: 6)\n",
      "Fetching comments for video: eYVnId5bS2k (Comment Count: 6)\n",
      "Fetching comments for video: XPYIWCwb84Y (Comment Count: 6)\n",
      "Fetching comments for video: x3ssAFpMYSE (Comment Count: 6)\n",
      "Fetching comments for video: j6MWvmN_m1E (Comment Count: 6)\n",
      "Fetching comments for video: o5GQnhFLtCc (Comment Count: 6)\n",
      "Fetching comments for video: hM47RA8viJQ (Comment Count: 6)\n",
      "Fetching comments for video: S-VTSEw3AwU (Comment Count: 6)\n",
      "Fetching comments for video: zhfJrvI3x-A (Comment Count: 6)\n",
      "Fetching comments for video: HWeFjKxuIyc (Comment Count: 7)\n",
      "Fetching comments for video: E30fT8gssd4 (Comment Count: 7)\n",
      "Fetching comments for video: wbZ5qr1IfhM (Comment Count: 7)\n",
      "Fetching comments for video: k5xLgizQh7k (Comment Count: 7)\n",
      "Fetching comments for video: jkytlp91onQ (Comment Count: 7)\n",
      "Fetching comments for video: kbXNbVVAbak (Comment Count: 8)\n",
      "Fetching comments for video: UPnKAn3_AB4 (Comment Count: 8)\n",
      "Fetching comments for video: lK7TM81EOZU (Comment Count: 8)\n",
      "Fetching comments for video: tsrekysPoxc (Comment Count: 8)\n",
      "Fetching comments for video: wdrYAIPlIm8 (Comment Count: 8)\n",
      "Fetching comments for video: QFh0XkV-8YQ (Comment Count: 8)\n",
      "Fetching comments for video: vSwRGjYY5D4 (Comment Count: 8)\n",
      "Fetching comments for video: PwygvDdcoC8 (Comment Count: 8)\n",
      "Fetching comments for video: rCPtwtzeYMQ (Comment Count: 8)\n",
      "Fetching comments for video: c-69AyuNhko (Comment Count: 8)\n",
      "Fetching comments for video: cgY3_mbgR0Q (Comment Count: 9)\n",
      "Fetching comments for video: GI5Y_yiO0rM (Comment Count: 9)\n",
      "Fetching comments for video: miXs3RKeyjU (Comment Count: 9)\n",
      "Fetching comments for video: 9wGJoz_pdrY (Comment Count: 9)\n",
      "Fetching comments for video: RXTX4dhqrbI (Comment Count: 9)\n",
      "Fetching comments for video: D4lzFteAOZY (Comment Count: 9)\n",
      "Fetching comments for video: T502Ofsad1Q (Comment Count: 9)\n",
      "Fetching comments for video: FgHKdoYpGpI (Comment Count: 9)\n",
      "Fetching comments for video: 9iaJstpr1Gk (Comment Count: 9)\n",
      "Fetching comments for video: FnIdfWbsqrw (Comment Count: 9)\n",
      "Fetching comments for video: 7rBvBPH5w-8 (Comment Count: 9)\n",
      "Fetching comments for video: kZTEe8A2DlQ (Comment Count: 9)\n",
      "Fetching comments for video: Z8FvkRp_lHY (Comment Count: 9)\n",
      "Fetching comments for video: a9wXLHxi1oI (Comment Count: 10)\n",
      "Fetching comments for video: 6CKm9Q8YLIw (Comment Count: 10)\n",
      "Fetching comments for video: dxLJOdr6Xdo (Comment Count: 10)\n",
      "Fetching comments for video: Z6aF_BLG3Vc (Comment Count: 10)\n",
      "Fetching comments for video: KAv6SE37Q00 (Comment Count: 10)\n",
      "Fetching comments for video: yuLIxoKEfwM (Comment Count: 10)\n",
      "Fetching comments for video: 5uukMLh9T60 (Comment Count: 10)\n",
      "Fetching comments for video: h1OPM0-2n3g (Comment Count: 10)\n",
      "Fetching comments for video: VQHU-cdxOcE (Comment Count: 11)\n",
      "Fetching comments for video: Kv6MYSkg_60 (Comment Count: 11)\n",
      "Fetching comments for video: 6UfIZEdcrwY (Comment Count: 11)\n",
      "Fetching comments for video: YwvgkQ0hug4 (Comment Count: 11)\n",
      "Fetching comments for video: PXdxFD-tDoc (Comment Count: 11)\n",
      "Processed batch 2\n",
      "Fetching comments for video: lDLsRcaUo88 (Comment Count: 11)\n",
      "Fetching comments for video: qmaFtKtmLY0 (Comment Count: 11)\n",
      "Fetching comments for video: 5dx4sCpP8Ig (Comment Count: 11)\n",
      "Fetching comments for video: jzXqz5RQQG8 (Comment Count: 11)\n",
      "Fetching comments for video: RGVIfM6hsNc (Comment Count: 12)\n",
      "Fetching comments for video: vw5Q0GY-avA (Comment Count: 12)\n",
      "Fetching comments for video: wLT5keKUFIc (Comment Count: 12)\n",
      "Fetching comments for video: x0S2tDrD_5c (Comment Count: 12)\n",
      "Fetching comments for video: KrMII3Y0UJc (Comment Count: 12)\n",
      "Fetching comments for video: BWcANNU71HA (Comment Count: 12)\n",
      "Fetching comments for video: PkhQ6ZyppSs (Comment Count: 12)\n",
      "Fetching comments for video: cZKiLPZpZgc (Comment Count: 12)\n",
      "Fetching comments for video: qZ-1uCj_T3U (Comment Count: 13)\n",
      "Fetching comments for video: uK8deB01EN0 (Comment Count: 13)\n",
      "Fetching comments for video: 6PnJbHRAhTk (Comment Count: 13)\n",
      "Fetching comments for video: 7hFs5u5cJZY (Comment Count: 14)\n",
      "Fetching comments for video: 92ncdHlV3LY (Comment Count: 14)\n",
      "Fetching comments for video: 5q3xn_3ic6E (Comment Count: 14)\n",
      "Fetching comments for video: tGwDav4OU4I (Comment Count: 14)\n",
      "Fetching comments for video: x_Q3LGP5fxc (Comment Count: 15)\n",
      "Fetching comments for video: ZMosfSsP9CM (Comment Count: 15)\n",
      "Fetching comments for video: 5URQfLvCJKw (Comment Count: 15)\n",
      "Fetching comments for video: 1UEqW-wGOpA (Comment Count: 15)\n",
      "Fetching comments for video: 5HnIMU3kV-w (Comment Count: 15)\n",
      "Fetching comments for video: 2kcjVK84lKU (Comment Count: 15)\n",
      "Fetching comments for video: XM45CGXJ4zc (Comment Count: 16)\n",
      "Fetching comments for video: BWVoTOx5l6Q (Comment Count: 16)\n",
      "Fetching comments for video: 6dEikfRJDdU (Comment Count: 17)\n",
      "Fetching comments for video: nMYFlxNzEZM (Comment Count: 17)\n",
      "Fetching comments for video: eTAI6eQeD1k (Comment Count: 17)\n",
      "Fetching comments for video: 3hQ8ZX2JQS0 (Comment Count: 17)\n",
      "Fetching comments for video: LmdXEvY7FdI (Comment Count: 17)\n",
      "Fetching comments for video: J2KKG74VEY4 (Comment Count: 19)\n",
      "Fetching comments for video: D_Fe_f2STTA (Comment Count: 19)\n",
      "Fetching comments for video: NEStSMUhqds (Comment Count: 19)\n",
      "Fetching comments for video: SQC17ASyYJA (Comment Count: 19)\n",
      "Fetching comments for video: QR1P2AlqR-E (Comment Count: 19)\n",
      "Fetching comments for video: Es2bli0uSYY (Comment Count: 19)\n",
      "Fetching comments for video: N_QxbKTHV9k (Comment Count: 21)\n",
      "Fetching comments for video: _v4t9faGahE (Comment Count: 21)\n",
      "Fetching comments for video: LBBI2MEQ10E (Comment Count: 22)\n",
      "Fetching comments for video: 7YIPrXYe0xs (Comment Count: 22)\n",
      "Fetching comments for video: esJD_DvM0Cg (Comment Count: 23)\n",
      "Fetching comments for video: FafwI0h3WKk (Comment Count: 23)\n",
      "Fetching comments for video: xPR_Z8M1J80 (Comment Count: 24)\n",
      "Fetching comments for video: vQZzpXS66dM (Comment Count: 25)\n",
      "Fetching comments for video: 1spCac12CfY (Comment Count: 25)\n",
      "Fetching comments for video: hedMOideZY8 (Comment Count: 25)\n",
      "Fetching comments for video: D_R00saZYy8 (Comment Count: 25)\n",
      "Fetching comments for video: Z5knQTc76vU (Comment Count: 26)\n",
      "Processed batch 3\n",
      "Fetching comments for video: P0VK5InNRiA (Comment Count: 26)\n",
      "Fetching comments for video: hcRF1lTOfGI (Comment Count: 26)\n",
      "Fetching comments for video: K5zRxtXc27s (Comment Count: 26)\n",
      "Fetching comments for video: knCjScmNnJE (Comment Count: 26)\n",
      "Fetching comments for video: o0niNWGbTuE (Comment Count: 27)\n",
      "Fetching comments for video: t1_x1OKXZyQ (Comment Count: 27)\n",
      "Fetching comments for video: qJuGHovSRE0 (Comment Count: 27)\n",
      "Fetching comments for video: P-hpSwXsDGo (Comment Count: 29)\n",
      "Fetching comments for video: 2KrfOc3hQvQ (Comment Count: 29)\n",
      "Fetching comments for video: rbBsxz9uFD4 (Comment Count: 30)\n",
      "Fetching comments for video: _UbbVzlda8Q (Comment Count: 30)\n",
      "Fetching comments for video: CRWDYbKyq8M (Comment Count: 30)\n",
      "Fetching comments for video: iShqIapTCV8 (Comment Count: 30)\n",
      "Fetching comments for video: XCzA5ldzaD8 (Comment Count: 31)\n",
      "Fetching comments for video: B5LdSsNzgXM (Comment Count: 31)\n",
      "Fetching comments for video: R4AqB_zewLo (Comment Count: 31)\n",
      "Fetching comments for video: re0bNbmB7DU (Comment Count: 32)\n",
      "Fetching comments for video: szYCme1OkAc (Comment Count: 32)\n",
      "Fetching comments for video: 7uLWNOlfLKI (Comment Count: 32)\n",
      "Fetching comments for video: bKC1mNGvMpU (Comment Count: 32)\n",
      "Fetching comments for video: OYlloaSih48 (Comment Count: 33)\n",
      "Fetching comments for video: FYWoASBLcpA (Comment Count: 34)\n",
      "Fetching comments for video: BzJoXeVblJg (Comment Count: 34)\n",
      "Fetching comments for video: -knH-zU_GCY (Comment Count: 34)\n",
      "Fetching comments for video: whCU2euvx5U (Comment Count: 34)\n",
      "Fetching comments for video: VgYO0l_GmS4 (Comment Count: 35)\n",
      "Fetching comments for video: 651bggFWSXI (Comment Count: 35)\n",
      "Fetching comments for video: QYfvW2ynqJE (Comment Count: 35)\n",
      "Fetching comments for video: mEXsCeKObkg (Comment Count: 36)\n",
      "Fetching comments for video: h2mecvSfT8w (Comment Count: 36)\n",
      "Fetching comments for video: uCQfZluNq1I (Comment Count: 36)\n",
      "Fetching comments for video: ZNE-vB2ncHM (Comment Count: 37)\n",
      "Fetching comments for video: uPKIFhxcmxY (Comment Count: 37)\n",
      "Fetching comments for video: VbpNEycegdg (Comment Count: 37)\n",
      "Fetching comments for video: h4mY9ANCEQg (Comment Count: 38)\n",
      "Fetching comments for video: OnoRcDNFnu4 (Comment Count: 38)\n",
      "Fetching comments for video: b4r_LadvoMI (Comment Count: 39)\n",
      "Fetching comments for video: _szOQrGxT9E (Comment Count: 40)\n",
      "Fetching comments for video: gra1HeDMvec (Comment Count: 40)\n",
      "Fetching comments for video: hfmk-tPeK7E (Comment Count: 41)\n",
      "Fetching comments for video: h6v2H6BFINo (Comment Count: 41)\n",
      "Fetching comments for video: 2FnxC4b9Icc (Comment Count: 41)\n",
      "Fetching comments for video: UMNhg9ZlfSY (Comment Count: 41)\n",
      "Fetching comments for video: mkekPpSo17E (Comment Count: 43)\n",
      "Fetching comments for video: QQztYIN_ILg (Comment Count: 44)\n",
      "Fetching comments for video: YUdq6H3EcLE (Comment Count: 44)\n",
      "Fetching comments for video: rVDNjbmlOz4 (Comment Count: 44)\n",
      "Fetching comments for video: pFCTgWIBrlg (Comment Count: 45)\n",
      "Fetching comments for video: Kts3RIrBpGo (Comment Count: 45)\n",
      "Fetching comments for video: KNbHMibm9fw (Comment Count: 46)\n",
      "Processed batch 4\n",
      "Fetching comments for video: pX8YupjfXME (Comment Count: 46)\n",
      "Fetching comments for video: 8sAyFDRYedw (Comment Count: 46)\n",
      "Fetching comments for video: -pNUf3ov3iI (Comment Count: 46)\n",
      "Fetching comments for video: OHo35bjWgO0 (Comment Count: 47)\n",
      "Fetching comments for video: IHUwY55pWIs (Comment Count: 48)\n",
      "Fetching comments for video: _k29OgWxK4Y (Comment Count: 48)\n",
      "Fetching comments for video: sB1m5zW1b5A (Comment Count: 49)\n",
      "Fetching comments for video: RKyPYWVlj78 (Comment Count: 51)\n",
      "Fetching comments for video: Zi9O471ruk8 (Comment Count: 52)\n",
      "Fetching comments for video: JSj-kyqpYf8 (Comment Count: 53)\n",
      "Fetching comments for video: VGVFoxC0JrM (Comment Count: 53)\n",
      "Fetching comments for video: a5jwIieKF-I (Comment Count: 53)\n",
      "Fetching comments for video: F6Amq4YCDPo (Comment Count: 54)\n",
      "Fetching comments for video: p3YO_IkgXBo (Comment Count: 54)\n",
      "Fetching comments for video: mRMzZVjyYY8 (Comment Count: 55)\n",
      "Fetching comments for video: m8L-qd-truQ (Comment Count: 56)\n",
      "Fetching comments for video: 3CAo9glWzao (Comment Count: 57)\n",
      "Fetching comments for video: pTfeS68ymzQ (Comment Count: 60)\n",
      "Fetching comments for video: JYrgShlXUVI (Comment Count: 60)\n",
      "Fetching comments for video: Fg4USLv88zg (Comment Count: 64)\n",
      "Fetching comments for video: YNUI5Xgr4qo (Comment Count: 64)\n",
      "Fetching comments for video: q97QY0rMM_o (Comment Count: 65)\n",
      "Fetching comments for video: NU_GDBObm1Y (Comment Count: 65)\n",
      "Fetching comments for video: jE30Ro3Fd68 (Comment Count: 65)\n",
      "Fetching comments for video: atEDIQ5Bzho (Comment Count: 65)\n",
      "Fetching comments for video: Vh1QfduGJCQ (Comment Count: 66)\n",
      "Fetching comments for video: GJ3acXqHSUs (Comment Count: 67)\n",
      "Fetching comments for video: gosJoVsA0vI (Comment Count: 68)\n",
      "Fetching comments for video: LUwAVuS0cio (Comment Count: 69)\n",
      "Fetching comments for video: OrV6rc_VjhI (Comment Count: 69)\n",
      "Fetching comments for video: bbY0nSfSea8 (Comment Count: 69)\n",
      "Fetching comments for video: dYG-It9pBt8 (Comment Count: 70)\n",
      "Fetching comments for video: KTvdiIWenk8 (Comment Count: 71)\n",
      "Fetching comments for video: ELhCN_cov9w (Comment Count: 71)\n",
      "Fetching comments for video: 2vLzeSC0UP8 (Comment Count: 71)\n",
      "Fetching comments for video: D_TP0L-s4V0 (Comment Count: 72)\n",
      "Fetching comments for video: dytncO3M_QQ (Comment Count: 72)\n",
      "Fetching comments for video: 7kq4qkeVybo (Comment Count: 74)\n",
      "Fetching comments for video: _c0fgnpAlrI (Comment Count: 74)\n",
      "Fetching comments for video: p-NgghB7rZ4 (Comment Count: 75)\n",
      "Fetching comments for video: lJ3-i42GFYc (Comment Count: 75)\n",
      "Fetching comments for video: OfhKr2sb17U (Comment Count: 75)\n",
      "Fetching comments for video: tVqLmnjEDKY (Comment Count: 77)\n",
      "Fetching comments for video: 1NZiG99SN7g (Comment Count: 77)\n",
      "Fetching comments for video: QHExzvimbGc (Comment Count: 78)\n",
      "Fetching comments for video: wImjH9haWp4 (Comment Count: 79)\n",
      "Fetching comments for video: k0uFfXj9meY (Comment Count: 79)\n",
      "Fetching comments for video: TVgXG2yY_Bg (Comment Count: 80)\n",
      "Fetching comments for video: CyLmIcYE92U (Comment Count: 81)\n",
      "Fetching comments for video: WErNBLqdLrY (Comment Count: 83)\n",
      "Processed batch 5\n",
      "Fetching comments for video: f3BZGUnAa8g (Comment Count: 84)\n",
      "Fetching comments for video: r3mxrG2dIBY (Comment Count: 85)\n",
      "Fetching comments for video: 8p412TXn7dU (Comment Count: 87)\n",
      "Fetching comments for video: Wck2GnT_uM0 (Comment Count: 91)\n",
      "Fetching comments for video: xfT7T9UYvwM (Comment Count: 92)\n",
      "Fetching comments for video: khoOkUzO4v4 (Comment Count: 92)\n",
      "Fetching comments for video: B8_7Opa6iBQ (Comment Count: 97)\n",
      "Fetching comments for video: kiHPKJ3ZEUM (Comment Count: 97)\n",
      "Fetching comments for video: c1lin_f9lVg (Comment Count: 97)\n",
      "Fetching comments for video: TPESHXe8B0I (Comment Count: 97)\n",
      "Fetching comments for video: Wluus91PUjI (Comment Count: 98)\n",
      "Fetching comments for video: dbonxsTODqc (Comment Count: 99)\n",
      "Fetching comments for video: WydWEcBOLvA (Comment Count: 100)\n",
      "Fetching comments for video: 5NTPwYkkz4c (Comment Count: 103)\n",
      "Fetching comments for video: FFQ6YWOsOUA (Comment Count: 106)\n",
      "Fetching comments for video: hWLHRUddhas (Comment Count: 106)\n",
      "Fetching comments for video: g7b0osWpG44 (Comment Count: 106)\n",
      "Fetching comments for video: -bMdUkYY6AM (Comment Count: 106)\n",
      "Fetching comments for video: 7BPhjrt7xzI (Comment Count: 106)\n",
      "Fetching comments for video: Hh_f1058u_c (Comment Count: 109)\n",
      "Fetching comments for video: fdCL6LAdN2w (Comment Count: 109)\n",
      "Fetching comments for video: 3oAp6-xrZrw (Comment Count: 109)\n",
      "Fetching comments for video: czoI-JB_RQA (Comment Count: 110)\n",
      "Fetching comments for video: xnA3Jll8j-k (Comment Count: 110)\n",
      "Fetching comments for video: AuaxSYVNYxE (Comment Count: 111)\n",
      "Fetching comments for video: c64ZzqoOq58 (Comment Count: 111)\n",
      "Fetching comments for video: uT9g3UViYJY (Comment Count: 112)\n",
      "Fetching comments for video: oUVz9XeiC44 (Comment Count: 114)\n",
      "Fetching comments for video: AAeSsVCsrA4 (Comment Count: 114)\n",
      "Fetching comments for video: a89cORa6qns (Comment Count: 114)\n",
      "Fetching comments for video: yd8MkGODzYY (Comment Count: 114)\n",
      "Fetching comments for video: RkrsTQP5h4A (Comment Count: 115)\n",
      "Fetching comments for video: 2t5fnRyoYBA (Comment Count: 116)\n",
      "Fetching comments for video: pc9nErTk4MM (Comment Count: 117)\n",
      "Fetching comments for video: uTjbnVEJqTk (Comment Count: 118)\n",
      "Fetching comments for video: NPJscNvgeD0 (Comment Count: 119)\n",
      "Fetching comments for video: pbPbuiAxb5k (Comment Count: 120)\n",
      "Fetching comments for video: 9CVkcdNHo9c (Comment Count: 120)\n",
      "Fetching comments for video: VBPtc7rzVE8 (Comment Count: 120)\n",
      "Fetching comments for video: WESgNmf2M1g (Comment Count: 128)\n",
      "Fetching comments for video: RecuqgimAjc (Comment Count: 129)\n",
      "Fetching comments for video: qNzRegSmiFk (Comment Count: 131)\n",
      "Fetching comments for video: ilUr1m4wWnQ (Comment Count: 131)\n",
      "Fetching comments for video: 870tv85usPA (Comment Count: 132)\n",
      "Fetching comments for video: n6FKeusF9Yo (Comment Count: 133)\n",
      "Fetching comments for video: WPrCibfTDK0 (Comment Count: 134)\n",
      "Fetching comments for video: lGBFhT-KXSY (Comment Count: 134)\n",
      "Fetching comments for video: HCMhRdRuMyU (Comment Count: 135)\n",
      "Fetching comments for video: KU5o2vGuGbE (Comment Count: 137)\n",
      "Fetching comments for video: AZoWW7Z1cSY (Comment Count: 137)\n",
      "Processed batch 6\n",
      "Fetching comments for video: Deb9SA9Sfe4 (Comment Count: 138)\n",
      "Fetching comments for video: b6K9R0EDEZA (Comment Count: 138)\n",
      "Fetching comments for video: U34bXp-mma0 (Comment Count: 140)\n",
      "Fetching comments for video: YFvO9K-nen8 (Comment Count: 142)\n",
      "Fetching comments for video: PIsJhqhaWHw (Comment Count: 142)\n",
      "Fetching comments for video: UytOYcAd_Kk (Comment Count: 143)\n",
      "Fetching comments for video: GVkwFbJS6i4 (Comment Count: 149)\n",
      "Fetching comments for video: mI9UseOt7Ds (Comment Count: 152)\n",
      "Fetching comments for video: bb0gMCITi48 (Comment Count: 153)\n",
      "Fetching comments for video: bSkva8ZeMJk (Comment Count: 154)\n",
      "Fetching comments for video: zJ2ZJZl4G4s (Comment Count: 155)\n",
      "Fetching comments for video: 4XgBZX_pXjc (Comment Count: 156)\n",
      "Fetching comments for video: LWpyD1qRs8I (Comment Count: 156)\n",
      "Fetching comments for video: vSgmKTUfD0g (Comment Count: 156)\n",
      "Fetching comments for video: 8ucnKcemAWI (Comment Count: 162)\n",
      "Fetching comments for video: kOBYR0-VMlA (Comment Count: 163)\n",
      "Fetching comments for video: 97I_wJxDepI (Comment Count: 165)\n",
      "Fetching comments for video: wPsIiACH7hk (Comment Count: 167)\n",
      "Fetching comments for video: 6QkmbOmn0G0 (Comment Count: 169)\n",
      "Fetching comments for video: hr0TjEHuZqE (Comment Count: 169)\n",
      "Fetching comments for video: iAeSIJBoclI (Comment Count: 169)\n",
      "Fetching comments for video: 9MTVHXVYrKY (Comment Count: 173)\n",
      "Fetching comments for video: BhZhbm8rCXA (Comment Count: 174)\n",
      "Fetching comments for video: 3M0uBvtLyFo (Comment Count: 174)\n",
      "Fetching comments for video: Ckuo2iyMGr8 (Comment Count: 175)\n",
      "Fetching comments for video: VWpyZlkIWgc (Comment Count: 175)\n",
      "Fetching comments for video: rEnnQWWVRxc (Comment Count: 176)\n",
      "Fetching comments for video: aAKL8C2-3RQ (Comment Count: 177)\n",
      "Fetching comments for video: B29W6FnEIMs (Comment Count: 178)\n",
      "Fetching comments for video: cvvgqI16vzk (Comment Count: 183)\n",
      "Fetching comments for video: XEiXe6sW7vk (Comment Count: 185)\n",
      "Fetching comments for video: 8l4ari7GVjQ (Comment Count: 188)\n",
      "Fetching comments for video: JPHV17yt1aY (Comment Count: 191)\n",
      "Fetching comments for video: w_uF8dXb5H0 (Comment Count: 193)\n",
      "Fetching comments for video: hScfoPR9cO4 (Comment Count: 195)\n",
      "Fetching comments for video: eGhfOdcJXwA (Comment Count: 197)\n",
      "Fetching comments for video: O3HhYqeIvlQ (Comment Count: 200)\n",
      "Fetching comments for video: ZvkzHPJmuhM (Comment Count: 204)\n",
      "Fetching comments for video: 0kj29DibaJ8 (Comment Count: 204)\n",
      "Fetching comments for video: i8gV-l9exV0 (Comment Count: 205)\n",
      "Fetching comments for video: YP4JIjGOHhY (Comment Count: 207)\n",
      "Fetching comments for video: S5Mi3fYSydM (Comment Count: 215)\n",
      "Fetching comments for video: q6PXlsiwKrU (Comment Count: 220)\n",
      "Fetching comments for video: SM_tuZcFicU (Comment Count: 221)\n",
      "Fetching comments for video: BWdG0QNzjtM (Comment Count: 221)\n",
      "Fetching comments for video: -4T9K2ShEvQ (Comment Count: 221)\n",
      "Fetching comments for video: VoHINtON8Qg (Comment Count: 222)\n",
      "Fetching comments for video: 6sGo7Hpyqic (Comment Count: 222)\n",
      "Fetching comments for video: HrqEKjX4TXI (Comment Count: 224)\n",
      "Fetching comments for video: ABWpxvYYyD8 (Comment Count: 230)\n",
      "Processed batch 7\n",
      "Fetching comments for video: s6cjJGwVx7Q (Comment Count: 231)\n",
      "Fetching comments for video: hX242MLHIzc (Comment Count: 232)\n",
      "Fetching comments for video: C00tnRGsivw (Comment Count: 235)\n",
      "Fetching comments for video: EP4ttCDVJ3U (Comment Count: 238)\n",
      "Fetching comments for video: REifdfJvCzw (Comment Count: 240)\n",
      "Fetching comments for video: TSdeP5TPyv0 (Comment Count: 243)\n",
      "Fetching comments for video: EC71GPjPfSs (Comment Count: 244)\n",
      "Fetching comments for video: GjE1FZbBOxw (Comment Count: 245)\n",
      "Fetching comments for video: zxzPUlFRzuU (Comment Count: 246)\n",
      "Fetching comments for video: 8oUu1ZxaACo (Comment Count: 246)\n",
      "Fetching comments for video: Lz36W8rt7do (Comment Count: 247)\n",
      "Fetching comments for video: ccRXEN1Qjf8 (Comment Count: 249)\n",
      "Fetching comments for video: pU-Zhj7FKUw (Comment Count: 254)\n",
      "Fetching comments for video: nGDVMIwGi54 (Comment Count: 257)\n",
      "Fetching comments for video: 2nlggMBLvxs (Comment Count: 258)\n",
      "Fetching comments for video: 7k7fDGeG7JU (Comment Count: 259)\n",
      "Fetching comments for video: nVjv_50EfNk (Comment Count: 260)\n",
      "Fetching comments for video: _nbj4hOXtTM (Comment Count: 261)\n",
      "Fetching comments for video: 0Mw0mlKATLw (Comment Count: 268)\n",
      "Fetching comments for video: _kqYtFOSsg8 (Comment Count: 268)\n",
      "Fetching comments for video: JFbcp7UUe7w (Comment Count: 268)\n",
      "Fetching comments for video: t4CPph1A8k0 (Comment Count: 269)\n",
      "Fetching comments for video: Ui63GWBnRQ4 (Comment Count: 269)\n",
      "Fetching comments for video: 5HxJr7ZRKvY (Comment Count: 272)\n",
      "Fetching comments for video: u4EGLILlY24 (Comment Count: 276)\n",
      "Fetching comments for video: zavAKfTum1M (Comment Count: 279)\n",
      "Fetching comments for video: uoiQYyVfKwY (Comment Count: 283)\n",
      "Fetching comments for video: gTnKzMt0Kno (Comment Count: 283)\n",
      "Fetching comments for video: bJ-1QOOett0 (Comment Count: 285)\n",
      "Fetching comments for video: JybE3-UX0sM (Comment Count: 286)\n",
      "Fetching comments for video: Ngimy3GpHS0 (Comment Count: 286)\n",
      "Fetching comments for video: RVEUlE19-Y8 (Comment Count: 288)\n",
      "Fetching comments for video: ATnO5JjPD2o (Comment Count: 292)\n",
      "Fetching comments for video: BwkfXM5s7b0 (Comment Count: 294)\n",
      "Fetching comments for video: tOWpOL4ZgSw (Comment Count: 302)\n",
      "Fetching comments for video: mSzmNFTlyrc (Comment Count: 302)\n",
      "Fetching comments for video: 3-ZkRwBN54s (Comment Count: 313)\n",
      "Fetching comments for video: AkUzE4bQxt8 (Comment Count: 313)\n",
      "Fetching comments for video: IKwmFlSY_UU (Comment Count: 315)\n",
      "Fetching comments for video: F8ECUF2RlMs (Comment Count: 327)\n",
      "Fetching comments for video: 3Y4kqxdBEQ0 (Comment Count: 329)\n",
      "Fetching comments for video: HZth2fjonIY (Comment Count: 343)\n",
      "Fetching comments for video: HFM8vyBpOqs (Comment Count: 344)\n",
      "Fetching comments for video: C3E8u7nQsNE (Comment Count: 352)\n",
      "Fetching comments for video: zVoV2RIszNg (Comment Count: 353)\n",
      "Fetching comments for video: MBaaA6oekVo (Comment Count: 358)\n",
      "Fetching comments for video: Gs6KAYTaw5k (Comment Count: 359)\n",
      "Fetching comments for video: ZkOzfQ8Yxb0 (Comment Count: 364)\n",
      "Fetching comments for video: -iy_xoHcYXc (Comment Count: 367)\n",
      "Fetching comments for video: 6ZAQU7Hl2Kk (Comment Count: 367)\n",
      "Processed batch 8\n",
      "All comments fetched and CSV updated successfully!\n"
     ]
    }
   ],
   "source": [
    "process_videos(comments_count)\n",
    "print(\"All comments fetched and CSV updated successfully!\")"
   ]
  }
 ],
 "metadata": {
  "kaggle": {
   "accelerator": "none",
   "dataSources": [
    {
     "datasetId": 6853311,
     "sourceId": 11008231,
     "sourceType": "datasetVersion"
    }
   ],
   "dockerImageVersionId": 30918,
   "isGpuEnabled": false,
   "isInternetEnabled": true,
   "language": "python",
   "sourceType": "notebook"
  },
  "kernelspec": {
   "display_name": "Python 3",
   "language": "python",
   "name": "python3"
  },
  "language_info": {
   "codemirror_mode": {
    "name": "ipython",
    "version": 3
   },
   "file_extension": ".py",
   "mimetype": "text/x-python",
   "name": "python",
   "nbconvert_exporter": "python",
   "pygments_lexer": "ipython3",
   "version": "3.10.12"
  }
 },
 "nbformat": 4,
 "nbformat_minor": 4
}
